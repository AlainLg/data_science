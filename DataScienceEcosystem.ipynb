{
 "cells": [
  {
   "cell_type": "markdown",
   "id": "a754db5f-75a3-4102-a5b0-1d8c61ffa090",
   "metadata": {},
   "source": [
    "# DataScienceEcosystem"
   ]
  },
  {
   "cell_type": "markdown",
   "id": "d6a26322-77aa-4a19-a4d3-0f123a3c119a",
   "metadata": {},
   "source": [
    "**In this notebook, Data Science Tools and Ecosystem are summarized.**"
   ]
  },
  {
   "cell_type": "markdown",
   "id": "34ccf0c4-e90b-4cf9-9140-e8d75ba5e23e",
   "metadata": {},
   "source": [
    "**Objectives:**\n",
    "- List the most popular languages ​​for data science.\n",
    "- Libraries most used by data scientists\n",
    "- Open source tools for the development environment in data science.\n",
    "- Examples of arithmetic expressions in Python\n",
    "\n",
    "  \n"
   ]
  },
  {
   "cell_type": "markdown",
   "id": "1b43d1c7-f485-409d-8927-aa1c0ca278d5",
   "metadata": {},
   "source": [
    "  "
   ]
  },
  {
   "cell_type": "markdown",
   "id": "d46038e2-db49-4291-b659-4612341cc142",
   "metadata": {},
   "source": [
    "Some of the popular languages that Data Scientists use are:\n",
    "1. Python\n",
    "2. R\n",
    "3. Java"
   ]
  },
  {
   "cell_type": "markdown",
   "id": "fbef5947-557b-4235-9166-4e0f96f184f1",
   "metadata": {},
   "source": [
    "  "
   ]
  },
  {
   "cell_type": "markdown",
   "id": "3180fc92-ef3a-4c0c-b1d5-fbba94435f62",
   "metadata": {},
   "source": [
    "\n",
    "Some of the commonly used libraries used by Data Scientists include:\n",
    "1. TensorFlow\n",
    "2. NumPy\n",
    "3. Pandas\n",
    "4. Matplotlib \n",
    "5. Keras"
   ]
  },
  {
   "cell_type": "markdown",
   "id": "16eceb97-a70e-4ad3-af22-ed48383ea961",
   "metadata": {},
   "source": [
    "Open source tools for the development environment in data science:\n",
    "| Data Science Tools |\n",
    "| -------------|\n",
    "| JupiterLite | \n",
    "| RStudio | \n",
    "| Google Colaboratory |"
   ]
  },
  {
   "cell_type": "markdown",
   "id": "2dd8f0e5-6fb1-45d1-8d0f-76683065a07b",
   "metadata": {},
   "source": [
    "### Below are a few examples of evaluating arithmetic expressions in Python"
   ]
  },
  {
   "cell_type": "code",
   "execution_count": 11,
   "id": "53b0e68b-eb13-4712-8943-e8c1b9a1101e",
   "metadata": {
    "scrolled": true
   },
   "outputs": [
    {
     "data": {
      "text/plain": [
       "17"
      ]
     },
     "execution_count": 11,
     "metadata": {},
     "output_type": "execute_result"
    }
   ],
   "source": [
    "# This a simple arithmetic expression to mutiply then add integers.\n",
    "(3*4)+5"
   ]
  },
  {
   "cell_type": "code",
   "execution_count": 13,
   "id": "1b88bceb-479d-4d52-8a4d-d7d0e868edf0",
   "metadata": {},
   "outputs": [
    {
     "data": {
      "text/plain": [
       "3"
      ]
     },
     "execution_count": 13,
     "metadata": {},
     "output_type": "execute_result"
    }
   ],
   "source": [
    "#This will convert 200 minutes to hours by diving by 60.\n",
    "200//60"
   ]
  },
  {
   "cell_type": "markdown",
   "id": "feb51f7d-d4d0-4090-bf99-c4b9720817fc",
   "metadata": {},
   "source": [
    "## Author\n",
    "Alain Linares"
   ]
  },
  {
   "cell_type": "code",
   "execution_count": null,
   "id": "e0250c4c-4cbe-4041-b96e-548c52d22f5b",
   "metadata": {},
   "outputs": [],
   "source": []
  }
 ],
 "metadata": {
  "kernelspec": {
   "display_name": "Python 3 (ipykernel)",
   "language": "python",
   "name": "python3"
  },
  "language_info": {
   "codemirror_mode": {
    "name": "ipython",
    "version": 3
   },
   "file_extension": ".py",
   "mimetype": "text/x-python",
   "name": "python",
   "nbconvert_exporter": "python",
   "pygments_lexer": "ipython3",
   "version": "3.12.4"
  }
 },
 "nbformat": 4,
 "nbformat_minor": 5
}
